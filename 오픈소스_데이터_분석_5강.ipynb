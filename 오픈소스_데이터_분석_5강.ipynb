{
  "nbformat": 4,
  "nbformat_minor": 0,
  "metadata": {
    "colab": {
      "provenance": [],
      "include_colab_link": true
    },
    "kernelspec": {
      "name": "python3",
      "display_name": "Python 3"
    },
    "language_info": {
      "name": "python"
    }
  },
  "cells": [
    {
      "cell_type": "markdown",
      "metadata": {
        "id": "view-in-github",
        "colab_type": "text"
      },
      "source": [
        "<a href=\"https://colab.research.google.com/github/minso0317/Data-Analysis-with-Open-Source/blob/main/%EC%98%A4%ED%94%88%EC%86%8C%EC%8A%A4_%EB%8D%B0%EC%9D%B4%ED%84%B0_%EB%B6%84%EC%84%9D_5%EA%B0%95.ipynb\" target=\"_parent\"><img src=\"https://colab.research.google.com/assets/colab-badge.svg\" alt=\"Open In Colab\"/></a>"
      ]
    },
    {
      "cell_type": "markdown",
      "source": [
        "# 오픈소스 기반 데이터 분석 5강 - 데이터 저장"
      ],
      "metadata": {
        "id": "O4kC4JMknVnK"
      }
    },
    {
      "cell_type": "markdown",
      "source": [
        "## 5-1 CSV 형식 저장"
      ],
      "metadata": {
        "id": "8DfV0cZLqj_s"
      }
    },
    {
      "cell_type": "code",
      "source": [
        "import pandas as pd\n",
        "\n",
        "data = {\n",
        "    'student_id': [101, 102, 103, 104, 105],\n",
        "    'database_score': [85, 76, 92, 63, 88],\n",
        "    'cloudcomputing_score': [78, 82, 95, 70, 84],\n",
        "    'python_score': [92, 78, 85, 75, 91],\n",
        "    'watch_rate': [0.95, 0.87, 0.99, 0.80, 0.93]\n",
        "}\n",
        "## DataFrame 생성\n",
        "df = pd.DataFrame(data)\n",
        "\n",
        "## CSV 형식 저장\n",
        "df.to_csv('student_analusis.csv', encoding='utf-8', index=False)"
      ],
      "metadata": {
        "id": "DztLRI9gW2lk"
      },
      "execution_count": 4,
      "outputs": []
    },
    {
      "cell_type": "markdown",
      "source": [
        "## 5-2 JSON 형식 저장"
      ],
      "metadata": {
        "id": "CSABzaf3q8XU"
      }
    },
    {
      "cell_type": "code",
      "source": [
        "### 라이브러리 임포트\n",
        "import json\n",
        "import pandas as pd\n",
        "\n",
        "data = {\n",
        "    \"이름\": \"홍길동\",\n",
        "    \"나이\": 25,\n",
        "    \"거주지\": \"서울\",\n",
        "    \"관심사\": [\"프로그래밍\", \"데이터 분석\", \"여행\"]\n",
        "}\n",
        "\n",
        "## json.dump를 이용한 저장\n",
        "with open('output.json', mode='w', encoding='utf-8') as f:\n",
        "    json.dump(data, f, indent=4, ensure_ascii=False)\n",
        "\n",
        "## DataFrame을 이용한 저장\n",
        "df = pd.DataFrame(data)\n",
        "df.to_json('output_df.json', orient='records', indent=4, force_ascii=False)\n",
        "\n",
        "df = pd.DataFrame([data])\n",
        "df.to_json('output_df_row.json', orient='records', indent=4, force_ascii=False)\n",
        "\n",
        "df = pd.DataFrame([data])\n",
        "df.to_json('output_df_coulumns.json', orient='columns', indent=4, force_ascii=False)\n"
      ],
      "metadata": {
        "id": "7bAgRpizW7Vj"
      },
      "execution_count": 7,
      "outputs": []
    },
    {
      "cell_type": "markdown",
      "source": [
        "## 5-3 Pandas Dataframe 데이터 추출"
      ],
      "metadata": {
        "id": "NMlsQDHtrA_x"
      }
    },
    {
      "cell_type": "code",
      "source": [
        "import pandas as pd\n",
        "\n",
        "data = {\n",
        "    \"이름\": [\"김철수\", \"이영희\", \"박민수\", \"최지훈\", \"정소희\"],\n",
        "    \"학년\": [1, 2, 3, 4, 2],\n",
        "    \"학점\": [4.2, 3.8, 4.5, 3.9, 3.5],\n",
        "    \"학과\": [\"컴퓨터학\", \"경영학\", \"농학\", \"교육학\", \"영어영문학\"],\n",
        "    \"동아리\": [\"프로그래밍\", \"독서토론\", \"로봇공학\", \"봉사활동\", \"음악감상\"]\n",
        "}\n",
        "df = pd.DataFrame(data)\n",
        "df\n",
        "\n",
        "## DataFrame 인덱스 출력\n",
        "print(df.index)\n",
        "\n",
        "## DataFrame 컬럼 출력\n",
        "print(df.columns)\n",
        "\n",
        "## DataFrame 행 출력\n",
        "print(df.values.tolist())\n",
        "print(df.values)\n",
        "\n",
        "## DataFrame 값 출력\n",
        "print(df.values.flatten())\n"
      ],
      "metadata": {
        "id": "dk3xneVAW9_g",
        "colab": {
          "base_uri": "https://localhost:8080/"
        },
        "outputId": "a2b957dd-9dff-46ee-d47a-a0ea80a43772"
      },
      "execution_count": 19,
      "outputs": [
        {
          "output_type": "stream",
          "name": "stdout",
          "text": [
            "RangeIndex(start=0, stop=5, step=1)\n",
            "Index(['이름', '학년', '학점', '학과', '동아리'], dtype='object')\n",
            "[['김철수', 1, 4.2, '컴퓨터학', '프로그래밍'], ['이영희', 2, 3.8, '경영학', '독서토론'], ['박민수', 3, 4.5, '농학', '로봇공학'], ['최지훈', 4, 3.9, '교육학', '봉사활동'], ['정소희', 2, 3.5, '영어영문학', '음악감상']]\n",
            "[['김철수' 1 4.2 '컴퓨터학' '프로그래밍']\n",
            " ['이영희' 2 3.8 '경영학' '독서토론']\n",
            " ['박민수' 3 4.5 '농학' '로봇공학']\n",
            " ['최지훈' 4 3.9 '교육학' '봉사활동']\n",
            " ['정소희' 2 3.5 '영어영문학' '음악감상']]\n",
            "['김철수' 1 4.2 '컴퓨터학' '프로그래밍' '이영희' 2 3.8 '경영학' '독서토론' '박민수' 3 4.5 '농학'\n",
            " '로봇공학' '최지훈' 4 3.9 '교육학' '봉사활동' '정소희' 2 3.5 '영어영문학' '음악감상']\n"
          ]
        }
      ]
    },
    {
      "cell_type": "markdown",
      "source": [
        "## 5-4 DataFrame 생성 방법"
      ],
      "metadata": {
        "id": "ILJd1GLoseqm"
      }
    },
    {
      "cell_type": "code",
      "source": [
        "import pandas as pd\n",
        "import json\n",
        "\n",
        "data = {\n",
        "    \"이름\": [\"김철수\", \"이영희\", \"박민수\", \"최지훈\", \"정소희\"],\n",
        "    \"학년\": [1, 2, 3, 4, 2],\n",
        "    \"학점\": [4.2, 3.8, 4.5, 3.9, 3.5],\n",
        "    \"학과\": [\"컴퓨터공학\", \"경영학\", \"전자공학\", \"의학\", \"심리학\"],\n",
        "    \"동아리\": [\"프로그래밍\", \"독서토론\", \"로봇공학\", \"봉사활동\", \"음악감상\"]\n",
        "}\n",
        "\n",
        "## 딕셔너리, csv, json으로 부터 DataFrame 생성\n",
        "df1 = pd.DataFrame.from_dict(data)\n",
        "df2 = pd.read_csv('students.csv')\n",
        "df3 = pd.read_json('students.json')\n",
        "\n",
        "## 세가지 방법 결과 비교\n",
        "print(df1.shape)\n",
        "print(df2.shape)\n",
        "print(df3.shape)"
      ],
      "metadata": {
        "id": "ISnPLEgNXAmi",
        "colab": {
          "base_uri": "https://localhost:8080/"
        },
        "outputId": "88283e92-fbbf-47d9-a874-bea5fdae8964"
      },
      "execution_count": 20,
      "outputs": [
        {
          "output_type": "stream",
          "name": "stdout",
          "text": [
            "(5, 5)\n",
            "(5, 5)\n",
            "(5, 5)\n"
          ]
        }
      ]
    },
    {
      "cell_type": "markdown",
      "source": [
        "## 5-5 DataFrame 저장 방법"
      ],
      "metadata": {
        "id": "z1N6lAnwsdyU"
      }
    },
    {
      "cell_type": "code",
      "source": [
        "import pandas as pd\n",
        "\n",
        "data = {\n",
        "    \"이름\": [\"김철수\", \"이영희\", \"박민수\", \"최지훈\", \"정소희\"],\n",
        "    \"학년\": [1, 2, 3, 4, 2],\n",
        "    \"학점\": [4.2, 3.8, 4.5, 3.9, 3.5],\n",
        "    \"학과\": [\"컴퓨터공학\", \"경영학\", \"전자공학\", \"의학\", \"심리학\"],\n",
        "    \"동아리\": [\"프로그래밍\", \"독서토론\", \"로봇공학\", \"봉사활동\", \"음악감상\"]\n",
        "}\n",
        "\n",
        "## Dataframe 생성\n",
        "df1 = pd.DataFrame(data)\n",
        "\n",
        "## CSV, JSON 형식으로 저장\n",
        "df.to_csv('students_scores.csv')\n",
        "df.to_json('students_scores.json', orient='records', indent=4, force_ascii=False)\n",
        "\n",
        "## HTML 형식으로 저장\n",
        "html_table = df.to_html()\n",
        "with open('students_scores.html', 'w') as f:\n",
        "    f.write(html_table)"
      ],
      "metadata": {
        "id": "_dqoWCRoXDrJ"
      },
      "execution_count": 22,
      "outputs": []
    },
    {
      "cell_type": "markdown",
      "source": [
        "## 5-6 실습 시나리오"
      ],
      "metadata": {
        "id": "ifBFAyulsdJb"
      }
    },
    {
      "cell_type": "markdown",
      "source": [
        "## 데이터 수집"
      ],
      "metadata": {
        "id": "muFj6okKyXy6"
      }
    },
    {
      "cell_type": "code",
      "source": [
        "import requests\n",
        "\n",
        "url = \"http://openapi.seoul.go.kr:8088/6247726759736d733838734b415746/json/energyUseDataSummaryInfo/1/5/2015/01\"\n",
        "api_key = '6247726759736d733838734b415746'\n",
        "\n",
        "params = {\n",
        "    'serviceKey': api_key,\n",
        "    'returnType': 'json',\n",
        "    'numOfRows': '100',\n",
        "    'pageNo': '1',\n",
        "    'sidoName': '서울',\n",
        "    'ver': '1.0'\n",
        "}\n",
        "\n",
        "## 데이터 수집\n",
        "response = requests.get(url, params=params)\n",
        "\n",
        "## 호출 성공/실패 출력\n",
        "print(response.json())\n"
      ],
      "metadata": {
        "id": "7yCozmQeXJcO",
        "colab": {
          "base_uri": "https://localhost:8080/"
        },
        "outputId": "3db73179-7f63-4d00-e728-5994aa400814"
      },
      "execution_count": 59,
      "outputs": [
        {
          "output_type": "stream",
          "name": "stdout",
          "text": [
            "{'energyUseDataSummaryInfo': {'list_total_count': 7, 'RESULT': {'CODE': 'INFO-000', 'MESSAGE': '정상 처리되었습니다'}, 'row': [{'YEAR': '2015', 'MON': '01', 'MM_TYPE': '개인', 'CNT': '767791', 'EUS': '193784708', 'EUS1': '194781915', 'EUS2': '204969429', 'ECO2_1': '-6090964', 'ECO2_2': '-2582568.736', 'GUS': '59133720', 'GUS1': '57163993', 'GUS2': '68297619', 'GCO2_1': '-3597086', 'GCO2_2': '-8057472.64', 'WUS': '12819757.886', 'WUS1': '12723680.426', 'WUS2': '12899476.73', 'WCO2_1': '8179.308', 'WCO2_2': '2715.530256', 'HUS': '22740838.937', 'HUS1': '23400055.303', 'HUS2': '27090493.875', 'HCO2_1': '-2504435.652', 'HCO2_2': '-33660084.213069', 'REG_DATE': '2015-06-04 17:03:55.0'}, {'YEAR': '2015', 'MON': '01', 'MM_TYPE': '학교', 'CNT': '1382', 'EUS': '134955565', 'EUS1': '128707423', 'EUS2': '145561511', 'ECO2_1': '-2178902', 'ECO2_2': '-923854.448', 'GUS': '9107197', 'GUS1': '8410968', 'GUS2': '10745416', 'GCO2_1': '-470995', 'GCO2_2': '-1055028.8', 'WUS': '2075819.2', 'WUS1': '2097433.8', 'WUS2': '2133200.8', 'WCO2_1': '-39498.1', 'WCO2_2': '-13113.3692', 'HUS': '0', 'HUS1': '0', 'HUS2': '0', 'HCO2_1': '0', 'HCO2_2': '0', 'REG_DATE': '2015-06-04 17:03:55.0'}, {'YEAR': '2015', 'MON': '01', 'MM_TYPE': '종교단체', 'CNT': '32', 'EUS': '372270', 'EUS1': '363376', 'EUS2': '411363', 'ECO2_1': '-15099.5', 'ECO2_2': '-6402.188', 'GUS': '53331', 'GUS1': '45727', 'GUS2': '63312', 'GCO2_1': '-1188.5', 'GCO2_2': '-2662.24', 'WUS': '5945', 'WUS1': '4548', 'WUS2': '4519', 'WCO2_1': '1411.5', 'WCO2_2': '468.618', 'HUS': '0', 'HUS1': '0', 'HUS2': '0', 'HCO2_1': '0', 'HCO2_2': '0', 'REG_DATE': '2015-06-04 17:03:55.0'}, {'YEAR': '2015', 'MON': '01', 'MM_TYPE': '소상공인', 'CNT': '2058', 'EUS': '10249618', 'EUS1': '9927610', 'EUS2': '11039593', 'ECO2_1': '-233983.5', 'ECO2_2': '-99209.004', 'GUS': '536119', 'GUS1': '523810', 'GUS2': '642921', 'GCO2_1': '-47246.5', 'GCO2_2': '-105832.16', 'WUS': '147273', 'WUS1': '146480.6', 'WUS2': '147325.6', 'WCO2_1': '369.9', 'WCO2_2': '122.8068', 'HUS': '0', 'HUS1': '0', 'HUS2': '0', 'HCO2_1': '0', 'HCO2_2': '0', 'REG_DATE': '2015-06-04 17:03:55.0'}, {'YEAR': '2015', 'MON': '01', 'MM_TYPE': '공동주택관리소', 'CNT': '1747', 'EUS': '327102096', 'EUS1': '329852334', 'EUS2': '351694752', 'ECO2_1': '-13671447', 'ECO2_2': '-5796693.528', 'GUS': '22834274', 'GUS1': '21141017', 'GUS2': '25338506', 'GCO2_1': '-405487.5', 'GCO2_2': '-908292', 'WUS': '12844807.5', 'WUS1': '12763070', 'WUS2': '12979835.8', 'WCO2_1': '-26645.4', 'WCO2_2': '-8846.2728', 'HUS': '0', 'HUS1': '0', 'HUS2': '0', 'HCO2_1': '0', 'HCO2_2': '0', 'REG_DATE': '2015-06-04 17:03:55.0'}]}}\n"
          ]
        }
      ]
    },
    {
      "cell_type": "code",
      "source": [
        "response.json()"
      ],
      "metadata": {
        "colab": {
          "base_uri": "https://localhost:8080/"
        },
        "id": "dSljxsr66X2m",
        "outputId": "d3d507b8-6595-49c3-fe32-de170ec83472"
      },
      "execution_count": 43,
      "outputs": [
        {
          "output_type": "execute_result",
          "data": {
            "text/plain": [
              "{'energyUseDataSummaryInfo': {'list_total_count': 7,\n",
              "  'RESULT': {'CODE': 'INFO-000', 'MESSAGE': '정상 처리되었습니다'},\n",
              "  'row': [{'YEAR': '2015',\n",
              "    'MON': '01',\n",
              "    'MM_TYPE': '개인',\n",
              "    'CNT': '767791',\n",
              "    'EUS': '193784708',\n",
              "    'EUS1': '194781915',\n",
              "    'EUS2': '204969429',\n",
              "    'ECO2_1': '-6090964',\n",
              "    'ECO2_2': '-2582568.736',\n",
              "    'GUS': '59133720',\n",
              "    'GUS1': '57163993',\n",
              "    'GUS2': '68297619',\n",
              "    'GCO2_1': '-3597086',\n",
              "    'GCO2_2': '-8057472.64',\n",
              "    'WUS': '12819757.886',\n",
              "    'WUS1': '12723680.426',\n",
              "    'WUS2': '12899476.73',\n",
              "    'WCO2_1': '8179.308',\n",
              "    'WCO2_2': '2715.530256',\n",
              "    'HUS': '22740838.937',\n",
              "    'HUS1': '23400055.303',\n",
              "    'HUS2': '27090493.875',\n",
              "    'HCO2_1': '-2504435.652',\n",
              "    'HCO2_2': '-33660084.213069',\n",
              "    'REG_DATE': '2015-06-04 17:03:55.0'},\n",
              "   {'YEAR': '2015',\n",
              "    'MON': '01',\n",
              "    'MM_TYPE': '학교',\n",
              "    'CNT': '1382',\n",
              "    'EUS': '134955565',\n",
              "    'EUS1': '128707423',\n",
              "    'EUS2': '145561511',\n",
              "    'ECO2_1': '-2178902',\n",
              "    'ECO2_2': '-923854.448',\n",
              "    'GUS': '9107197',\n",
              "    'GUS1': '8410968',\n",
              "    'GUS2': '10745416',\n",
              "    'GCO2_1': '-470995',\n",
              "    'GCO2_2': '-1055028.8',\n",
              "    'WUS': '2075819.2',\n",
              "    'WUS1': '2097433.8',\n",
              "    'WUS2': '2133200.8',\n",
              "    'WCO2_1': '-39498.1',\n",
              "    'WCO2_2': '-13113.3692',\n",
              "    'HUS': '0',\n",
              "    'HUS1': '0',\n",
              "    'HUS2': '0',\n",
              "    'HCO2_1': '0',\n",
              "    'HCO2_2': '0',\n",
              "    'REG_DATE': '2015-06-04 17:03:55.0'},\n",
              "   {'YEAR': '2015',\n",
              "    'MON': '01',\n",
              "    'MM_TYPE': '종교단체',\n",
              "    'CNT': '32',\n",
              "    'EUS': '372270',\n",
              "    'EUS1': '363376',\n",
              "    'EUS2': '411363',\n",
              "    'ECO2_1': '-15099.5',\n",
              "    'ECO2_2': '-6402.188',\n",
              "    'GUS': '53331',\n",
              "    'GUS1': '45727',\n",
              "    'GUS2': '63312',\n",
              "    'GCO2_1': '-1188.5',\n",
              "    'GCO2_2': '-2662.24',\n",
              "    'WUS': '5945',\n",
              "    'WUS1': '4548',\n",
              "    'WUS2': '4519',\n",
              "    'WCO2_1': '1411.5',\n",
              "    'WCO2_2': '468.618',\n",
              "    'HUS': '0',\n",
              "    'HUS1': '0',\n",
              "    'HUS2': '0',\n",
              "    'HCO2_1': '0',\n",
              "    'HCO2_2': '0',\n",
              "    'REG_DATE': '2015-06-04 17:03:55.0'},\n",
              "   {'YEAR': '2015',\n",
              "    'MON': '01',\n",
              "    'MM_TYPE': '소상공인',\n",
              "    'CNT': '2058',\n",
              "    'EUS': '10249618',\n",
              "    'EUS1': '9927610',\n",
              "    'EUS2': '11039593',\n",
              "    'ECO2_1': '-233983.5',\n",
              "    'ECO2_2': '-99209.004',\n",
              "    'GUS': '536119',\n",
              "    'GUS1': '523810',\n",
              "    'GUS2': '642921',\n",
              "    'GCO2_1': '-47246.5',\n",
              "    'GCO2_2': '-105832.16',\n",
              "    'WUS': '147273',\n",
              "    'WUS1': '146480.6',\n",
              "    'WUS2': '147325.6',\n",
              "    'WCO2_1': '369.9',\n",
              "    'WCO2_2': '122.8068',\n",
              "    'HUS': '0',\n",
              "    'HUS1': '0',\n",
              "    'HUS2': '0',\n",
              "    'HCO2_1': '0',\n",
              "    'HCO2_2': '0',\n",
              "    'REG_DATE': '2015-06-04 17:03:55.0'},\n",
              "   {'YEAR': '2015',\n",
              "    'MON': '01',\n",
              "    'MM_TYPE': '공동주택관리소',\n",
              "    'CNT': '1747',\n",
              "    'EUS': '327102096',\n",
              "    'EUS1': '329852334',\n",
              "    'EUS2': '351694752',\n",
              "    'ECO2_1': '-13671447',\n",
              "    'ECO2_2': '-5796693.528',\n",
              "    'GUS': '22834274',\n",
              "    'GUS1': '21141017',\n",
              "    'GUS2': '25338506',\n",
              "    'GCO2_1': '-405487.5',\n",
              "    'GCO2_2': '-908292',\n",
              "    'WUS': '12844807.5',\n",
              "    'WUS1': '12763070',\n",
              "    'WUS2': '12979835.8',\n",
              "    'WCO2_1': '-26645.4',\n",
              "    'WCO2_2': '-8846.2728',\n",
              "    'HUS': '0',\n",
              "    'HUS1': '0',\n",
              "    'HUS2': '0',\n",
              "    'HCO2_1': '0',\n",
              "    'HCO2_2': '0',\n",
              "    'REG_DATE': '2015-06-04 17:03:55.0'}]}}"
            ]
          },
          "metadata": {},
          "execution_count": 43
        }
      ]
    },
    {
      "cell_type": "markdown",
      "source": [
        "## 데이터 프레임 생성"
      ],
      "metadata": {
        "id": "d6mT4IxkySzI"
      }
    },
    {
      "cell_type": "code",
      "source": [
        "import pandas as pd\n",
        "\n",
        "## requests로부터 response, body, item 항목 읽기\n",
        "data = response.json()['energyUseDataSummaryInfo']['row']\n",
        "# print(type(data))\n",
        "# print(len(data))\n",
        "# print(data[0])\n",
        "# print(data[1])\n",
        "# print(data[2])\n",
        "# print(data[3])\n",
        "# print(data[4])\n",
        "\n",
        "df = pd.DataFrame(data)\n",
        "df\n",
        "# df['GUS']\n",
        "\n",
        "# '개인'타입의 데이터 읽기\n",
        "df = df.set_index('MM_TYPE')\n",
        "df.loc['개인']"
      ],
      "metadata": {
        "id": "HOOo9qTsXLkB",
        "colab": {
          "base_uri": "https://localhost:8080/",
          "height": 837
        },
        "outputId": "15fa0333-c026-4dc9-ac92-8d34c79050e7"
      },
      "execution_count": 67,
      "outputs": [
        {
          "output_type": "execute_result",
          "data": {
            "text/plain": [
              "YEAR                         2015\n",
              "MON                            01\n",
              "CNT                        767791\n",
              "EUS                     193784708\n",
              "EUS1                    194781915\n",
              "EUS2                    204969429\n",
              "ECO2_1                   -6090964\n",
              "ECO2_2               -2582568.736\n",
              "GUS                      59133720\n",
              "GUS1                     57163993\n",
              "GUS2                     68297619\n",
              "GCO2_1                   -3597086\n",
              "GCO2_2                -8057472.64\n",
              "WUS                  12819757.886\n",
              "WUS1                 12723680.426\n",
              "WUS2                  12899476.73\n",
              "WCO2_1                   8179.308\n",
              "WCO2_2                2715.530256\n",
              "HUS                  22740838.937\n",
              "HUS1                 23400055.303\n",
              "HUS2                 27090493.875\n",
              "HCO2_1               -2504435.652\n",
              "HCO2_2           -33660084.213069\n",
              "REG_DATE    2015-06-04 17:03:55.0\n",
              "Name: 개인, dtype: object"
            ],
            "text/html": [
              "<div>\n",
              "<style scoped>\n",
              "    .dataframe tbody tr th:only-of-type {\n",
              "        vertical-align: middle;\n",
              "    }\n",
              "\n",
              "    .dataframe tbody tr th {\n",
              "        vertical-align: top;\n",
              "    }\n",
              "\n",
              "    .dataframe thead th {\n",
              "        text-align: right;\n",
              "    }\n",
              "</style>\n",
              "<table border=\"1\" class=\"dataframe\">\n",
              "  <thead>\n",
              "    <tr style=\"text-align: right;\">\n",
              "      <th></th>\n",
              "      <th>개인</th>\n",
              "    </tr>\n",
              "  </thead>\n",
              "  <tbody>\n",
              "    <tr>\n",
              "      <th>YEAR</th>\n",
              "      <td>2015</td>\n",
              "    </tr>\n",
              "    <tr>\n",
              "      <th>MON</th>\n",
              "      <td>01</td>\n",
              "    </tr>\n",
              "    <tr>\n",
              "      <th>CNT</th>\n",
              "      <td>767791</td>\n",
              "    </tr>\n",
              "    <tr>\n",
              "      <th>EUS</th>\n",
              "      <td>193784708</td>\n",
              "    </tr>\n",
              "    <tr>\n",
              "      <th>EUS1</th>\n",
              "      <td>194781915</td>\n",
              "    </tr>\n",
              "    <tr>\n",
              "      <th>EUS2</th>\n",
              "      <td>204969429</td>\n",
              "    </tr>\n",
              "    <tr>\n",
              "      <th>ECO2_1</th>\n",
              "      <td>-6090964</td>\n",
              "    </tr>\n",
              "    <tr>\n",
              "      <th>ECO2_2</th>\n",
              "      <td>-2582568.736</td>\n",
              "    </tr>\n",
              "    <tr>\n",
              "      <th>GUS</th>\n",
              "      <td>59133720</td>\n",
              "    </tr>\n",
              "    <tr>\n",
              "      <th>GUS1</th>\n",
              "      <td>57163993</td>\n",
              "    </tr>\n",
              "    <tr>\n",
              "      <th>GUS2</th>\n",
              "      <td>68297619</td>\n",
              "    </tr>\n",
              "    <tr>\n",
              "      <th>GCO2_1</th>\n",
              "      <td>-3597086</td>\n",
              "    </tr>\n",
              "    <tr>\n",
              "      <th>GCO2_2</th>\n",
              "      <td>-8057472.64</td>\n",
              "    </tr>\n",
              "    <tr>\n",
              "      <th>WUS</th>\n",
              "      <td>12819757.886</td>\n",
              "    </tr>\n",
              "    <tr>\n",
              "      <th>WUS1</th>\n",
              "      <td>12723680.426</td>\n",
              "    </tr>\n",
              "    <tr>\n",
              "      <th>WUS2</th>\n",
              "      <td>12899476.73</td>\n",
              "    </tr>\n",
              "    <tr>\n",
              "      <th>WCO2_1</th>\n",
              "      <td>8179.308</td>\n",
              "    </tr>\n",
              "    <tr>\n",
              "      <th>WCO2_2</th>\n",
              "      <td>2715.530256</td>\n",
              "    </tr>\n",
              "    <tr>\n",
              "      <th>HUS</th>\n",
              "      <td>22740838.937</td>\n",
              "    </tr>\n",
              "    <tr>\n",
              "      <th>HUS1</th>\n",
              "      <td>23400055.303</td>\n",
              "    </tr>\n",
              "    <tr>\n",
              "      <th>HUS2</th>\n",
              "      <td>27090493.875</td>\n",
              "    </tr>\n",
              "    <tr>\n",
              "      <th>HCO2_1</th>\n",
              "      <td>-2504435.652</td>\n",
              "    </tr>\n",
              "    <tr>\n",
              "      <th>HCO2_2</th>\n",
              "      <td>-33660084.213069</td>\n",
              "    </tr>\n",
              "    <tr>\n",
              "      <th>REG_DATE</th>\n",
              "      <td>2015-06-04 17:03:55.0</td>\n",
              "    </tr>\n",
              "  </tbody>\n",
              "</table>\n",
              "</div><br><label><b>dtype:</b> object</label>"
            ]
          },
          "metadata": {},
          "execution_count": 67
        }
      ]
    },
    {
      "cell_type": "markdown",
      "source": [
        "## 다양항 형식으로 데이터 저장\n"
      ],
      "metadata": {
        "id": "vVG0HYb0ymeM"
      }
    },
    {
      "cell_type": "code",
      "source": [
        "# CSV 형식 데이터 저장\n",
        "df.to_csv('energy_usage.csv', index=False, encoding='utf-8')\n",
        "\n",
        "## JSON 형식 데이터 저장\n",
        "df.to_json('energy_usage.json', indent=4, force_ascii=False)\n",
        "\n",
        "## EXCEL 형식 데이터 저장\n",
        "df.to_excel('energy_usage.xlsx', index=False)\n",
        "\n",
        "## HTML 형식 데이터 저장\n",
        "df.to_html('energy_usage.html')"
      ],
      "metadata": {
        "id": "HW1ZodpgXNhG"
      },
      "execution_count": 58,
      "outputs": []
    }
  ]
}